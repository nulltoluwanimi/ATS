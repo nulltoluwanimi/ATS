{
 "cells": [
  {
   "cell_type": "code",
   "execution_count": 6,
   "metadata": {},
   "outputs": [
    {
     "name": "stdout",
     "output_type": "stream",
     "text": [
      "****Welcome, please provide your details below for registration******\n",
      "congratulation pass word, sign up successfull, please login\n",
      "we can't any user with \n"
     ]
    }
   ],
   "source": [
    "print(\"****Welcome, please provide your details below for registration******\")\n",
    "\n",
    "first_name = str(input('Enter your firstname:'))\n",
    "last_name = str(input('Enter your lastname:'))\n",
    "user_name = str(input('Enter your username:'))\n",
    "pass_word = str(input('Enter your password:'))\n",
    "\n",
    "print(f\"congratulation {first_name} {last_name}, sign up successfull, please login\")\n",
    "\n",
    "l_username = str(input('Enter your username:'))\n",
    "l_pass_word = str(input('Enter your password:'))\n",
    "\n",
    "if l_username != user_name:\n",
    "    print(f\"we can't any user with {l_username}\")\n",
    "elif l_pass_word != pass_word:\n",
    "     print('password does not match')\n",
    "elif l_pass_word == pass_word and user_name == l_username:\n",
    "    print('login successfull')\n",
    "else:\n",
    "    print('login failed')\n",
    "    \n"
   ]
  },
  {
   "cell_type": "code",
   "execution_count": 40,
   "metadata": {},
   "outputs": [
    {
     "ename": "ValueError",
     "evalue": "invalid literal for int() with base 10: 'input'",
     "output_type": "error",
     "traceback": [
      "\u001b[1;31m---------------------------------------------------------------------------\u001b[0m",
      "\u001b[1;31mValueError\u001b[0m                                Traceback (most recent call last)",
      "\u001b[1;32mc:\\Users\\ToyyibOlalekanOladej\\Documents\\ATS-STARS\\WEEK1\\assignment\\Untitled-1.ipynb Cell 2'\u001b[0m in \u001b[0;36m<cell line: 1>\u001b[1;34m()\u001b[0m\n\u001b[1;32m----> <a href='vscode-notebook-cell:/c%3A/Users/ToyyibOlalekanOladej/Documents/ATS-STARS/WEEK1/assignment/Untitled-1.ipynb#ch0000001?line=0'>1</a>\u001b[0m word_list \u001b[39m=\u001b[39m \u001b[39mint\u001b[39;49m(\u001b[39minput\u001b[39;49m(\u001b[39m'\u001b[39;49m\u001b[39mPlease input some value to check if its palindrome or not: \u001b[39;49m\u001b[39m'\u001b[39;49m))\n\u001b[0;32m      <a href='vscode-notebook-cell:/c%3A/Users/ToyyibOlalekanOladej/Documents/ATS-STARS/WEEK1/assignment/Untitled-1.ipynb#ch0000001?line=2'>3</a>\u001b[0m \u001b[39mif\u001b[39;00m(\u001b[39mlen\u001b[39m(word_list) \u001b[39m>\u001b[39m \u001b[39m5\u001b[39m):\n\u001b[0;32m      <a href='vscode-notebook-cell:/c%3A/Users/ToyyibOlalekanOladej/Documents/ATS-STARS/WEEK1/assignment/Untitled-1.ipynb#ch0000001?line=3'>4</a>\u001b[0m     \u001b[39mprint\u001b[39m(\u001b[39m'\u001b[39m\u001b[39mInput can not be greater than 5, please input 5 characters only\u001b[39m\u001b[39m'\u001b[39m)\n",
      "\u001b[1;31mValueError\u001b[0m: invalid literal for int() with base 10: 'input'"
     ]
    }
   ],
   "source": [
    "word_list = int(input('Please input some value to check if its palindrome or not: '))\n",
    "\n",
    "if(len(word_list) > 5):\n",
    "    print('Input can not be greater than 5, please input 5 characters only')\n",
    "\n",
    "word_index = 0\n",
    "\n",
    "for y in reversed(word_list):\n",
    "    # print(y, word_list[word_index], word_index)\n",
    "    if(y != word_list[word_index]):\n",
    "        print('Word is not palindrome')\n",
    "        break\n",
    "    word_index = word_index + 1\n",
    "\n",
    "\n",
    "\n",
    "\n",
    "            \n",
    "\n",
    "        \n",
    "\n"
   ]
  },
  {
   "cell_type": "code",
   "execution_count": 59,
   "metadata": {},
   "outputs": [
    {
     "ename": "TypeError",
     "evalue": "'str' object does not support item assignment",
     "output_type": "error",
     "traceback": [
      "\u001b[1;31m---------------------------------------------------------------------------\u001b[0m",
      "\u001b[1;31mTypeError\u001b[0m                                 Traceback (most recent call last)",
      "\u001b[1;32mc:\\Users\\ToyyibOlalekanOladej\\Documents\\ATS-STARS\\WEEK1\\assignment\\Untitled-1.ipynb Cell 3'\u001b[0m in \u001b[0;36m<cell line: 2>\u001b[1;34m()\u001b[0m\n\u001b[0;32m      <a href='vscode-notebook-cell:/c%3A/Users/ToyyibOlalekanOladej/Documents/ATS-STARS/WEEK1/assignment/Untitled-1.ipynb#ch0000007?line=0'>1</a>\u001b[0m s \u001b[39m=\u001b[39m \u001b[39m\"\u001b[39m\u001b[39mtolu\u001b[39m\u001b[39m\"\u001b[39m\n\u001b[1;32m----> <a href='vscode-notebook-cell:/c%3A/Users/ToyyibOlalekanOladej/Documents/ATS-STARS/WEEK1/assignment/Untitled-1.ipynb#ch0000007?line=1'>2</a>\u001b[0m s[\u001b[39m4\u001b[39m]\u001b[39m=\u001b[39m\u001b[39m1\u001b[39m\n\u001b[0;32m      <a href='vscode-notebook-cell:/c%3A/Users/ToyyibOlalekanOladej/Documents/ATS-STARS/WEEK1/assignment/Untitled-1.ipynb#ch0000007?line=2'>3</a>\u001b[0m \u001b[39mprint\u001b[39m(s)\n",
      "\u001b[1;31mTypeError\u001b[0m: 'str' object does not support item assignment"
     ]
    }
   ],
   "source": [
    "s = \"tolu\"\n",
    "\n",
    "print(s)"
   ]
  },
  {
   "cell_type": "code",
   "execution_count": 43,
   "metadata": {},
   "outputs": [
    {
     "name": "stdout",
     "output_type": "stream",
     "text": [
      "Number is not a palindrome\n"
     ]
    }
   ],
   "source": [
    "value_check = int(input('Please input some value to check if its palindrome or not: '));\n",
    "\n",
    "temp_number = value_check\n",
    "reversed_int = 0 \n",
    "\n",
    "while value_check > 0:\n",
    "    reminder = value_check % 10\n",
    "    reversed_int = reversed_int * 10 + reminder\n",
    "    value_check = value_check // 10\n",
    "if(temp_number == reversed_int):\n",
    "    print(\"The number is palindrome\")\n",
    "else:\n",
    "    print(\"Number is not a palindrome\")\n"
   ]
  },
  {
   "cell_type": "code",
   "execution_count": 56,
   "metadata": {},
   "outputs": [
    {
     "name": "stdout",
     "output_type": "stream",
     "text": [
      "The factorial of 0is 1\n"
     ]
    }
   ],
   "source": [
    "num = int(input(\"Enter a number: \"))   \n",
    "factorial = 1    \n",
    "\n",
    "if (num < 0):\n",
    "    print(f\"{num} is a negative number, please provide a postive number\") \n",
    "\n",
    "else:    \n",
    "   for i in range(1,num + 1):  \n",
    "       print(factorial, i)  \n",
    "       factorial = factorial*i    \n",
    "   print(f\"The factorial of {num} is {factorial}\")"
   ]
  },
  {
   "cell_type": "code",
   "execution_count": 54,
   "metadata": {},
   "outputs": [
    {
     "name": "stdout",
     "output_type": "stream",
     "text": [
      "The decimal value  is 0\n"
     ]
    }
   ],
   "source": [
    "num = int(input('Enter a binary number: '))\n",
    "\n",
    "exponent = 1\n",
    "dec_num = 0\n",
    "while(num):\n",
    "    digit = num % 10\n",
    "    num = int(num / 10)\n",
    "    dec_num += digit * expo\n",
    "    expo = expo * 2\n",
    "    \n",
    "print(f'The decimal value  is {dec_num}')\n",
    "\n"
   ]
  },
  {
   "cell_type": "code",
   "execution_count": 76,
   "metadata": {},
   "outputs": [
    {
     "name": "stdout",
     "output_type": "stream",
     "text": [
      "s\n",
      "t\n"
     ]
    },
    {
     "ename": "AttributeError",
     "evalue": "'tuple' object has no attribute 'append'",
     "output_type": "error",
     "traceback": [
      "\u001b[1;31m---------------------------------------------------------------------------\u001b[0m",
      "\u001b[1;31mAttributeError\u001b[0m                            Traceback (most recent call last)",
      "\u001b[1;32mc:\\Users\\ToyyibOlalekanOladej\\Documents\\ATS-STARS\\WEEK1\\assignment\\Untitled-1.ipynb Cell 7'\u001b[0m in \u001b[0;36m<cell line: 18>\u001b[1;34m()\u001b[0m\n\u001b[0;32m     <a href='vscode-notebook-cell:/c%3A/Users/ToyyibOlalekanOladej/Documents/ATS-STARS/WEEK1/assignment/Untitled-1.ipynb#ch0000006?line=15'>16</a>\u001b[0m \u001b[39mdef\u001b[39;00m \u001b[39minfi\u001b[39m(\u001b[39m*\u001b[39margs)\u001b[39m-\u001b[39m\u001b[39m>\u001b[39m\u001b[39mlist\u001b[39m:\n\u001b[0;32m     <a href='vscode-notebook-cell:/c%3A/Users/ToyyibOlalekanOladej/Documents/ATS-STARS/WEEK1/assignment/Untitled-1.ipynb#ch0000006?line=16'>17</a>\u001b[0m     \u001b[39mreturn\u001b[39;00m args\n\u001b[1;32m---> <a href='vscode-notebook-cell:/c%3A/Users/ToyyibOlalekanOladej/Documents/ATS-STARS/WEEK1/assignment/Untitled-1.ipynb#ch0000006?line=17'>18</a>\u001b[0m x \u001b[39m=\u001b[39minfi(\u001b[39m1\u001b[39;49m,\u001b[39m2\u001b[39;49m,\u001b[39m3\u001b[39;49m,\u001b[39m3\u001b[39;49m,\u001b[39m4\u001b[39;49m,\u001b[39m45\u001b[39;49m,\u001b[39m\"\u001b[39;49m\u001b[39m#\u001b[39;49m\u001b[39m\"\u001b[39;49m,[\u001b[39m12\u001b[39;49m])\u001b[39m.\u001b[39;49mappend(\u001b[39m'\u001b[39m\u001b[39mc\u001b[39m\u001b[39m'\u001b[39m)\n\u001b[0;32m     <a href='vscode-notebook-cell:/c%3A/Users/ToyyibOlalekanOladej/Documents/ATS-STARS/WEEK1/assignment/Untitled-1.ipynb#ch0000006?line=18'>19</a>\u001b[0m \u001b[39mprint\u001b[39m(x)\n\u001b[0;32m     <a href='vscode-notebook-cell:/c%3A/Users/ToyyibOlalekanOladej/Documents/ATS-STARS/WEEK1/assignment/Untitled-1.ipynb#ch0000006?line=20'>21</a>\u001b[0m \u001b[39mdef\u001b[39;00m \u001b[39mmyFun\u001b[39m(\u001b[39m*\u001b[39margs,\u001b[39m*\u001b[39m\u001b[39m*\u001b[39mkwargs):\n",
      "\u001b[1;31mAttributeError\u001b[0m: 'tuple' object has no attribute 'append'"
     ]
    }
   ],
   "source": [
    "def func(x:int)->int:\n",
    "    print(x)\n",
    "\n",
    "func(\"s\")\n",
    "\n",
    "def funcType(b:bool = 0):\n",
    "    return b\n",
    "\n",
    "print(funcType('t'))\n",
    "\n",
    "def func1(x=0, y=0):\n",
    "    return x,y\n",
    "\n",
    "# print(func1(kwargs={x=2,y=3}))\n",
    "\n",
    "def infi(*args)->list:\n",
    "    return args\n",
    "# x =infi(1,2,3,3,4,45,\"#\",[12]).append('c')\n",
    "# print(x)\n",
    "\n",
    "def myFun(*args,**kwargs):\n",
    "\tprint(\"args: \", args)\n",
    "\tprint(\"kwargs: \", kwargs)\n",
    "\n",
    "\n",
    "# Now we can use both *args ,**kwargs\n",
    "# to pass arguments to this function :\n",
    "myFun('geeks','for','geeks',first=\"Geeks\",mid=\"for\",last=\"Geeks\")\n"
   ]
  }
 ],
 "metadata": {
  "interpreter": {
   "hash": "6e32f579ea0d5a7a8deb537678a4e8cc21083b8923fc0337e964613634a9dfd8"
  },
  "kernelspec": {
   "display_name": "Python 3.8.9 64-bit",
   "language": "python",
   "name": "python3"
  },
  "language_info": {
   "codemirror_mode": {
    "name": "ipython",
    "version": 3
   },
   "file_extension": ".py",
   "mimetype": "text/x-python",
   "name": "python",
   "nbconvert_exporter": "python",
   "pygments_lexer": "ipython3",
   "version": "3.8.9"
  },
  "orig_nbformat": 4
 },
 "nbformat": 4,
 "nbformat_minor": 2
}
