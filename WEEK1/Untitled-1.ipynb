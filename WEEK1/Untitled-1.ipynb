{
 "cells": [
  {
   "cell_type": "code",
   "execution_count": 3,
   "metadata": {},
   "outputs": [
    {
     "name": "stdout",
     "output_type": "stream",
     "text": [
      "Hi, you are a He\n"
     ]
    }
   ],
   "source": [
    "gender = str(input('Are you a male or female:'))\n",
    "\n",
    "if gender == 'male':\n",
    "    print('Hi, you are a He')\n",
    "else:\n",
    "    print('Hi, you are a She')"
   ]
  },
  {
   "cell_type": "code",
   "execution_count": null,
   "metadata": {},
   "outputs": [],
   "source": [
    "dicto = { \"a\":1}\n",
    "print(dicto[\"a\"])\n",
    "\n",
    "ll = [1,2,3,4]\n",
    "print(tuple(ll))\n",
    "\n",
    "for number"
   ]
  },
  {
   "cell_type": "code",
   "execution_count": 23,
   "metadata": {},
   "outputs": [
    {
     "name": "stdout",
     "output_type": "stream",
     "text": [
      "100\n"
     ]
    }
   ],
   "source": [
    "def add(a):\n",
    "    return a ** 2\n",
    "print(add(10))\n"
   ]
  },
  {
   "cell_type": "code",
   "execution_count": null,
   "metadata": {},
   "outputs": [],
   "source": []
  },
  {
   "cell_type": "code",
   "execution_count": 13,
   "metadata": {},
   "outputs": [
    {
     "name": "stdout",
     "output_type": "stream",
     "text": [
      "Number is even\n",
      "Number is even\n",
      "Number is even\n"
     ]
    }
   ],
   "source": [
    "number_list = [1,2,3,4,5,6,7,8,9,10,11,12]\n",
    "for number in range(0,5):\n",
    "    if number %2 == 0 :\n",
    "        print('Number is even')\n",
    "        continue\n",
    "\n",
    "# index = 0\n",
    "# while index < len(number_list):\n",
    "#     if number_list[index] % 2 == 0:\n",
    "#         print(number_list[index])\n",
    "#         index = index + 1\n",
    "\n",
    "# # for letter in 'chrome':\n",
    "# #     print(letter)\n",
    "# index = 0\n",
    "\n",
    "# while "
   ]
  },
  {
   "cell_type": "code",
   "execution_count": 2,
   "metadata": {},
   "outputs": [
    {
     "name": "stdout",
     "output_type": "stream",
     "text": [
      "1\n",
      "23\n",
      "4\n",
      "5\n",
      "6\n",
      "7\n",
      "8\n",
      "9\n",
      "10\n",
      "11\n",
      "12\n"
     ]
    },
    {
     "ename": "IndexError",
     "evalue": "list index out of range",
     "output_type": "error",
     "traceback": [
      "\u001b[1;31m---------------------------------------------------------------------------\u001b[0m",
      "\u001b[1;31mIndexError\u001b[0m                                Traceback (most recent call last)",
      "\u001b[1;32mc:\\Users\\ToyyibOlalekanOladej\\Documents\\ATS-STARS\\WEEK1\\Untitled-1.ipynb Cell 4'\u001b[0m in \u001b[0;36m<cell line: 3>\u001b[1;34m()\u001b[0m\n\u001b[0;32m      <a href='vscode-notebook-cell:/c%3A/Users/ToyyibOlalekanOladej/Documents/ATS-STARS/WEEK1/Untitled-1.ipynb#ch0000005?line=1'>2</a>\u001b[0m index \u001b[39m=\u001b[39m \u001b[39m0\u001b[39m \n\u001b[0;32m      <a href='vscode-notebook-cell:/c%3A/Users/ToyyibOlalekanOladej/Documents/ATS-STARS/WEEK1/Untitled-1.ipynb#ch0000005?line=2'>3</a>\u001b[0m \u001b[39mwhile\u001b[39;00m index \u001b[39m<\u001b[39m\u001b[39m=\u001b[39m \u001b[39mlen\u001b[39m(number_list):\n\u001b[1;32m----> <a href='vscode-notebook-cell:/c%3A/Users/ToyyibOlalekanOladej/Documents/ATS-STARS/WEEK1/Untitled-1.ipynb#ch0000005?line=3'>4</a>\u001b[0m     \u001b[39mprint\u001b[39m(number_list[index])\n\u001b[0;32m      <a href='vscode-notebook-cell:/c%3A/Users/ToyyibOlalekanOladej/Documents/ATS-STARS/WEEK1/Untitled-1.ipynb#ch0000005?line=4'>5</a>\u001b[0m     index \u001b[39m=\u001b[39m index \u001b[39m+\u001b[39m \u001b[39m1\u001b[39m\n",
      "\u001b[1;31mIndexError\u001b[0m: list index out of range"
     ]
    }
   ],
   "source": [
    "number_list = [1,23,4,5,6,7,8,9,10,11,12]\n",
    "index = 0 \n",
    "while index <= len(number_list):\n",
    "    print(number_list[index])\n",
    "    index = index + 1"
   ]
  },
  {
   "cell_type": "code",
   "execution_count": 6,
   "metadata": {},
   "outputs": [
    {
     "name": "stdout",
     "output_type": "stream",
     "text": [
      "My name is jj\n",
      "My name is jj\n"
     ]
    }
   ],
   "source": [
    "name = input('Input your name here:')\n",
    "print('My name is {}'.format(name))\n",
    "print(f\"My name is {name}\")"
   ]
  },
  {
   "cell_type": "code",
   "execution_count": 8,
   "metadata": {},
   "outputs": [
    {
     "ename": "ValueError",
     "evalue": "invalid literal for int() with base 10: ''",
     "output_type": "error",
     "traceback": [
      "\u001b[1;31m---------------------------------------------------------------------------\u001b[0m",
      "\u001b[1;31mValueError\u001b[0m                                Traceback (most recent call last)",
      "\u001b[1;32mc:\\Users\\ToyyibOlalekanOladej\\Documents\\ATS-STARS\\WEEK1\\Untitled-1.ipynb Cell 3'\u001b[0m in \u001b[0;36m<cell line: 2>\u001b[1;34m()\u001b[0m\n\u001b[0;32m      <a href='vscode-notebook-cell:/c%3A/Users/ToyyibOlalekanOladej/Documents/ATS-STARS/WEEK1/Untitled-1.ipynb#ch0000002?line=0'>1</a>\u001b[0m full_name \u001b[39m=\u001b[39m \u001b[39mstr\u001b[39m(\u001b[39minput\u001b[39m(\u001b[39m'\u001b[39m\u001b[39myour fullname here:\u001b[39m\u001b[39m'\u001b[39m))\n\u001b[1;32m----> <a href='vscode-notebook-cell:/c%3A/Users/ToyyibOlalekanOladej/Documents/ATS-STARS/WEEK1/Untitled-1.ipynb#ch0000002?line=1'>2</a>\u001b[0m age \u001b[39m=\u001b[39m \u001b[39mint\u001b[39;49m(\u001b[39minput\u001b[39;49m(\u001b[39m'\u001b[39;49m\u001b[39mwhat about your age? :\u001b[39;49m\u001b[39m'\u001b[39;49m))\n\u001b[0;32m      <a href='vscode-notebook-cell:/c%3A/Users/ToyyibOlalekanOladej/Documents/ATS-STARS/WEEK1/Untitled-1.ipynb#ch0000002?line=2'>3</a>\u001b[0m gender \u001b[39m=\u001b[39m \u001b[39mstr\u001b[39m(\u001b[39minput\u001b[39m(\u001b[39m'\u001b[39m\u001b[39mwhat about your gender? :\u001b[39m\u001b[39m'\u001b[39m))\n\u001b[0;32m      <a href='vscode-notebook-cell:/c%3A/Users/ToyyibOlalekanOladej/Documents/ATS-STARS/WEEK1/Untitled-1.ipynb#ch0000002?line=3'>4</a>\u001b[0m about_self \u001b[39m=\u001b[39m \u001b[39mstr\u001b[39m(\u001b[39minput\u001b[39m(\u001b[39m'\u001b[39m\u001b[39mTell us about your self:\u001b[39m\u001b[39m'\u001b[39m))\n",
      "\u001b[1;31mValueError\u001b[0m: invalid literal for int() with base 10: ''"
     ]
    }
   ],
   "source": [
    "full_name = str(input('your fullname here:'))\n",
    "age = int(input('what about your age? :'))\n",
    "gender = str(input('what about your gender? :'))\n",
    "about_self = str(input('Tell us about your self:'))\n",
    "family = str(input('What about your family :'))\n",
    "skills = str(input('do you have any skills? :'))\n",
    "strengthAndWeakness = str(input('What about your strength and weakness?:'))\n",
    "role_model= str(input('do you have any role models? :'))\n",
    "brief = str(input('message for every one:'))\n",
    "\n",
    "essay = f\"i am {full_name}, {age} years old, a {gender}. {about_self} and {family}. i am skilled with {skills}, my strength and my weakness are {strengthAndWeakness} and my role model is {role_model}. lastly {brief}\"\n",
    "\n",
    "print(essay)\n"
   ]
  }
 ],
 "metadata": {
  "interpreter": {
   "hash": "6e32f579ea0d5a7a8deb537678a4e8cc21083b8923fc0337e964613634a9dfd8"
  },
  "kernelspec": {
   "display_name": "Python 3.8.9 64-bit",
   "language": "python",
   "name": "python3"
  },
  "language_info": {
   "codemirror_mode": {
    "name": "ipython",
    "version": 3
   },
   "file_extension": ".py",
   "mimetype": "text/x-python",
   "name": "python",
   "nbconvert_exporter": "python",
   "pygments_lexer": "ipython3",
   "version": "3.8.9"
  },
  "orig_nbformat": 4
 },
 "nbformat": 4,
 "nbformat_minor": 2
}
