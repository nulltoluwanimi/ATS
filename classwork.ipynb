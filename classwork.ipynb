{
 "cells": [
  {
   "cell_type": "code",
   "execution_count": 169,
   "metadata": {},
   "outputs": [
    {
     "ename": "AttributeError",
     "evalue": "'str' object has no attribute 'append'",
     "output_type": "error",
     "traceback": [
      "\u001b[1;31m---------------------------------------------------------------------------\u001b[0m",
      "\u001b[1;31mAttributeError\u001b[0m                            Traceback (most recent call last)",
      "\u001b[1;32mc:\\Users\\ToyyibOlalekanOladej\\Documents\\ATS-STARS\\WEEK1\\classwork.ipynb Cell 1'\u001b[0m in \u001b[0;36m<cell line: 30>\u001b[1;34m()\u001b[0m\n\u001b[0;32m     <a href='vscode-notebook-cell:/c%3A/Users/ToyyibOlalekanOladej/Documents/ATS-STARS/WEEK1/classwork.ipynb#ch0000000?line=28'>29</a>\u001b[0m rev \u001b[39m=\u001b[39m \u001b[39m'\u001b[39m\u001b[39m'\u001b[39m\n\u001b[0;32m     <a href='vscode-notebook-cell:/c%3A/Users/ToyyibOlalekanOladej/Documents/ATS-STARS/WEEK1/classwork.ipynb#ch0000000?line=29'>30</a>\u001b[0m \u001b[39mfor\u001b[39;00m keys \u001b[39min\u001b[39;00m vowel_encrypt:\n\u001b[1;32m---> <a href='vscode-notebook-cell:/c%3A/Users/ToyyibOlalekanOladej/Documents/ATS-STARS/WEEK1/classwork.ipynb#ch0000000?line=30'>31</a>\u001b[0m     rev\u001b[39m.\u001b[39;49mappend(encrypt_words(keys))\n\u001b[0;32m     <a href='vscode-notebook-cell:/c%3A/Users/ToyyibOlalekanOladej/Documents/ATS-STARS/WEEK1/classwork.ipynb#ch0000000?line=31'>32</a>\u001b[0m \u001b[39mprint\u001b[39m(rev)\n",
      "\u001b[1;31mAttributeError\u001b[0m: 'str' object has no attribute 'append'"
     ]
    }
   ],
   "source": [
    "word_to_encrpyt = input('Enter a word to encrypt')\n",
    "\n",
    "temp = word_to_encrpyt\n",
    "vowel_encrypt = {\n",
    "    \"a\": \"#\",\n",
    "    \"e\": \"&\",\n",
    "    \"i\": \"!\",\n",
    "    \"o\": \"~\",\n",
    "    \"u\": \")\"\n",
    "}\n",
    "\n",
    "# MyStr2 = \"aeiou\"\n",
    "\n",
    "# x = ' '.join(vowel_encrypt.get(t, t) for t in MyStr2.split())\n",
    "# print(x)\n",
    "\n",
    "def encrypt_words(keys, dict=vowel_encrypt):\n",
    "    print(keys)\n",
    "    temp = list()\n",
    "    if(keys in word_to_encrpyt):\n",
    "        temp.append(dict[keys])\n",
    "    elif(dict[keys] in word_to_encrpyt):\n",
    "        temp.append(f\"|{keys}\")\n",
    "    else:\n",
    "        temp = keys\n",
    "    return temp\n",
    "\n",
    "\n",
    "rev = ''\n",
    "for keys in vowel_encrypt:\n",
    "    rev += (encrypt_words(keys))\n",
    "print(rev)\n",
    "    # value = vowel_encrypt[keys]\n",
    "    # if (keys in word_to_encrpyt):\n",
    "    #     # index = word_to_encrpyt.index(keys)\n",
    "    #     rev = word_to_encrpyt.replace(keys, value)\n",
    "    #     # print(keys, index,temp)\n",
    "    # if(value in word_to_encrpyt):\n",
    "    #      word_to_encrpyt.replace(value, f\"|{value}\")\n",
    "\n",
    "    # else:\n",
    "    #     temp.swapcase()\n",
    "  \n",
    "    # elif(keys  not in word_to_encrpyt ):\n",
    "    #     temp.swapcase()\n",
    "\n",
    "# for keys in vowel_encrypt:\n",
    "#     value = vowel_encrypt[keys]\n",
    "#     for char in word_to_encrpyt:\n",
    "#         if(keys == char):\n",
    "            \n",
    "\n",
    "\n",
    "        \n",
    "        \n",
    "\n",
    "\n",
    "        \n",
    "\n"
   ]
  },
  {
   "cell_type": "code",
   "execution_count": 125,
   "metadata": {},
   "outputs": [
    {
     "name": "stdout",
     "output_type": "stream",
     "text": [
      "cood e Good o u\n"
     ]
    }
   ],
   "source": [
    "MyStr2 = \"aeiou\"\n",
    "\n",
    "d = {'a': 'cood', 'i': 'Good'}\n",
    "x = ' '.join(d.get(t, t) for t in MyStr2.split())\n",
    "print(x)"
   ]
  },
  {
   "cell_type": "code",
   "execution_count": 62,
   "metadata": {},
   "outputs": [
    {
     "name": "stdout",
     "output_type": "stream",
     "text": [
      "ITEM1ITEM2ITEM3\n"
     ]
    }
   ],
   "source": [
    "List = [\"ITEM1\", \"ITEM2\", \"ITEM3\"]\n",
    "string_version = \"\".join(List)\n",
    "\n",
    "print(string_version)"
   ]
  }
 ],
 "metadata": {
  "interpreter": {
   "hash": "6e32f579ea0d5a7a8deb537678a4e8cc21083b8923fc0337e964613634a9dfd8"
  },
  "kernelspec": {
   "display_name": "Python 3.8.9 64-bit",
   "language": "python",
   "name": "python3"
  },
  "language_info": {
   "codemirror_mode": {
    "name": "ipython",
    "version": 3
   },
   "file_extension": ".py",
   "mimetype": "text/x-python",
   "name": "python",
   "nbconvert_exporter": "python",
   "pygments_lexer": "ipython3",
   "version": "3.8.9"
  },
  "orig_nbformat": 4
 },
 "nbformat": 4,
 "nbformat_minor": 2
}
