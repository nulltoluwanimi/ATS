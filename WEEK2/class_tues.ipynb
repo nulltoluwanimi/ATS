{
 "cells": [
  {
   "cell_type": "code",
   "execution_count": 31,
   "metadata": {},
   "outputs": [
    {
     "name": "stdout",
     "output_type": "stream",
     "text": [
      "True\n"
     ]
    }
   ],
   "source": [
    "import string\n",
    "print('w' in string.ascii_lowercase)"
   ]
  },
  {
   "cell_type": "code",
   "execution_count": 15,
   "metadata": {},
   "outputs": [
    {
     "name": "stdout",
     "output_type": "stream",
     "text": [
      "abcdefghij\n"
     ]
    }
   ],
   "source": [
    "import string\n",
    "\n",
    "word_list = string.ascii_lowercase\n",
    "expected_list = list()\n",
    "for word in word_list:\n",
    "    if(word_list.index(word) < 10):\n",
    "        expected_list.append(word)\n",
    "\n",
    "first_10 = ''.join(expected_list)\n",
    "\n",
    "print(first_10)\n",
    "    "
   ]
  },
  {
   "cell_type": "code",
   "execution_count": 16,
   "metadata": {},
   "outputs": [
    {
     "name": "stdout",
     "output_type": "stream",
     "text": [
      "qrstuvwxyz\n"
     ]
    }
   ],
   "source": [
    "import string\n",
    "\n",
    "word_list = string.ascii_lowercase\n",
    "expected_list = list()\n",
    "for word in word_list:\n",
    "    if(word_list.index(word) in range(16,26)):\n",
    "        expected_list.append(word)\n",
    "\n",
    "first_10 = ''.join(expected_list)\n",
    "\n",
    "print(expected_list)"
   ]
  },
  {
   "cell_type": "code",
   "execution_count": null,
   "metadata": {},
   "outputs": [],
   "source": [
    "import string\n",
    "\n",
    "word_list = string.ascii_lowercase\n",
    "expected_list = list()\n",
    "for word in word_list:\n",
    "    if():\n",
    "        expected_list.append(word)\n",
    "\n",
    "first_10 = ''.join(expected_list)\n",
    "\n",
    "print(expected_list)"
   ]
  },
  {
   "cell_type": "code",
   "execution_count": 18,
   "metadata": {},
   "outputs": [
    {
     "name": "stdout",
     "output_type": "stream",
     "text": [
      "['b', 'c', 'd', 'f', 'g', 'h', 'j', 'k', 'l', 'm', 'n', 'p', 'q', 'r', 's', 't', 'v', 'w', 'x', 'y', 'z']\n"
     ]
    }
   ],
   "source": [
    "import string\n",
    "\n",
    "word_list = string.ascii_lowercase\n",
    "vowel  = ['a', 'e', 'i', 'o', 'u']\n",
    "consonant = list()\n",
    "\n",
    "for word in word_list:\n",
    "    if(word not in vowel ):\n",
    "        consonant.append(word)\n",
    "\n"
   ]
  },
  {
   "cell_type": "code",
   "execution_count": 37,
   "metadata": {},
   "outputs": [],
   "source": [
    "import string\n",
    "\n",
    "upper_case = string.ascii_uppercase\n",
    "lower_case = string.ascii_lowercase\n",
    "\n",
    "\n",
    "word = str(input(\"provide a word\"))\n",
    "\n",
    "for char in word:\n",
    "    if(word in upper_case and word not in lower_case):\n",
    "        print('Word is Uppercase')\n",
    "    elif(word in lower_case and word not in upper_case):\n",
    "        print('Word is lowercase')\n",
    "    elif(word in upper_case and word in lower_case):\n",
    "        print('Word is mixed!')\n",
    "\n",
    "\n"
   ]
  },
  {
   "cell_type": "code",
   "execution_count": null,
   "metadata": {},
   "outputs": [],
   "source": [
    "dict_list = {\n",
    "    'name':'tolu',\n",
    "    'second':'smith',\n",
    "}\n",
    "\n",
    "for keys in dict_list:\n",
    "    print(f'{dict_list[keys]} is the key. ')"
   ]
  }
 ],
 "metadata": {
  "interpreter": {
   "hash": "6e32f579ea0d5a7a8deb537678a4e8cc21083b8923fc0337e964613634a9dfd8"
  },
  "kernelspec": {
   "display_name": "Python 3.8.9 64-bit",
   "language": "python",
   "name": "python3"
  },
  "language_info": {
   "codemirror_mode": {
    "name": "ipython",
    "version": 3
   },
   "file_extension": ".py",
   "mimetype": "text/x-python",
   "name": "python",
   "nbconvert_exporter": "python",
   "pygments_lexer": "ipython3",
   "version": "3.8.9"
  },
  "orig_nbformat": 4
 },
 "nbformat": 4,
 "nbformat_minor": 2
}
