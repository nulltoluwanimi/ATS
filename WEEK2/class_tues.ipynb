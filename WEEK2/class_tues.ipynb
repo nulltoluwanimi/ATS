{
 "cells": [
  {
   "cell_type": "code",
   "execution_count": 31,
   "metadata": {},
   "outputs": [
    {
     "name": "stdout",
     "output_type": "stream",
     "text": [
      "True\n"
     ]
    }
   ],
   "source": [
    "import string\n",
    "print('w' in string.ascii_lowercase)"
   ]
  },
  {
   "cell_type": "code",
   "execution_count": 15,
   "metadata": {},
   "outputs": [
    {
     "name": "stdout",
     "output_type": "stream",
     "text": [
      "abcdefghij\n"
     ]
    }
   ],
   "source": [
    "import string\n",
    "\n",
    "word_list = string.ascii_lowercase\n",
    "expected_list = list()\n",
    "for word in word_list:\n",
    "    if(word_list.index(word) < 10):\n",
    "        expected_list.append(word)\n",
    "\n",
    "first_10 = ''.join(expected_list)\n",
    "\n",
    "print(first_10)\n",
    "    "
   ]
  },
  {
   "cell_type": "code",
   "execution_count": 16,
   "metadata": {},
   "outputs": [
    {
     "name": "stdout",
     "output_type": "stream",
     "text": [
      "qrstuvwxyz\n"
     ]
    }
   ],
   "source": [
    "import string\n",
    "\n",
    "word_list = string.ascii_lowercase\n",
    "expected_list = list()\n",
    "for word in word_list:\n",
    "    if(word_list.index(word) in range(16,26)):\n",
    "        expected_list.append(word)\n",
    "\n",
    "first_10 = ''.join(expected_list)\n",
    "\n",
    "print(expected_list)"
   ]
  },
  {
   "cell_type": "code",
   "execution_count": null,
   "metadata": {},
   "outputs": [],
   "source": [
    "import string\n",
    "\n",
    "word_list = string.ascii_lowercase\n",
    "expected_list = list()\n",
    "for word in word_list:\n",
    "    if():\n",
    "        expected_list.append(word)\n",
    "\n",
    "first_10 = ''.join(expected_list)\n",
    "\n",
    "print(expected_list)"
   ]
  },
  {
   "cell_type": "code",
   "execution_count": 55,
   "metadata": {},
   "outputs": [
    {
     "name": "stdout",
     "output_type": "stream",
     "text": [
      "['a', 'b', 'c', 'd', 'e', 'f', 'g', 'h', 'i', 'j', 'k', 'l', 'm', 'n', 'o', 'p', 'q', 'r', 's', 't', 'u', 'v', 'w', 'x', 'y', 'z']\n"
     ]
    }
   ],
   "source": [
    "import string\n",
    "\n",
    "word_list = string.ascii_lowercase\n",
    "vowel  = ['a', 'e', 'i', 'o', 'u']\n",
    "consonant = list()\n",
    "\n",
    "for word in word_list:\n",
    "    if(word not in vowel ):\n",
    "        consonant.append(word)\n",
    "\n",
    "sorted = vowel + consonant\n",
    "sorted.sort()\n",
    "print(sorted)\n"
   ]
  },
  {
   "cell_type": "code",
   "execution_count": 37,
   "metadata": {},
   "outputs": [
    {
     "ename": "KeyboardInterrupt",
     "evalue": "Interrupted by user",
     "output_type": "error",
     "traceback": [
      "\u001b[1;31m---------------------------------------------------------------------------\u001b[0m",
      "\u001b[1;31mKeyboardInterrupt\u001b[0m                         Traceback (most recent call last)",
      "\u001b[1;32mc:\\Users\\ToyyibOlalekanOladej\\Documents\\GitHub\\ATS\\WEEK2\\class_tues.ipynb Cell 6'\u001b[0m in \u001b[0;36m<cell line: 7>\u001b[1;34m()\u001b[0m\n\u001b[0;32m      <a href='vscode-notebook-cell:/c%3A/Users/ToyyibOlalekanOladej/Documents/GitHub/ATS/WEEK2/class_tues.ipynb#ch0000006?line=2'>3</a>\u001b[0m upper_case \u001b[39m=\u001b[39m string\u001b[39m.\u001b[39mascii_uppercase\n\u001b[0;32m      <a href='vscode-notebook-cell:/c%3A/Users/ToyyibOlalekanOladej/Documents/GitHub/ATS/WEEK2/class_tues.ipynb#ch0000006?line=3'>4</a>\u001b[0m lower_case \u001b[39m=\u001b[39m string\u001b[39m.\u001b[39mascii_lowercase\n\u001b[1;32m----> <a href='vscode-notebook-cell:/c%3A/Users/ToyyibOlalekanOladej/Documents/GitHub/ATS/WEEK2/class_tues.ipynb#ch0000006?line=6'>7</a>\u001b[0m word \u001b[39m=\u001b[39m \u001b[39mstr\u001b[39m(\u001b[39minput\u001b[39;49m(\u001b[39m\"\u001b[39;49m\u001b[39mprovide a word\u001b[39;49m\u001b[39m\"\u001b[39;49m))\n\u001b[0;32m      <a href='vscode-notebook-cell:/c%3A/Users/ToyyibOlalekanOladej/Documents/GitHub/ATS/WEEK2/class_tues.ipynb#ch0000006?line=8'>9</a>\u001b[0m \u001b[39mfor\u001b[39;00m char \u001b[39min\u001b[39;00m word:\n\u001b[0;32m     <a href='vscode-notebook-cell:/c%3A/Users/ToyyibOlalekanOladej/Documents/GitHub/ATS/WEEK2/class_tues.ipynb#ch0000006?line=9'>10</a>\u001b[0m     \u001b[39mif\u001b[39;00m(word \u001b[39min\u001b[39;00m upper_case \u001b[39mand\u001b[39;00m word \u001b[39mnot\u001b[39;00m \u001b[39min\u001b[39;00m lower_case):\n",
      "File \u001b[1;32mc:\\Users\\ToyyibOlalekanOladej\\AppData\\Local\\Programs\\Python\\Python38\\lib\\site-packages\\ipykernel\\kernelbase.py:1165\u001b[0m, in \u001b[0;36mKernel.raw_input\u001b[1;34m(self, prompt)\u001b[0m\n\u001b[0;32m   <a href='file:///c%3A/Users/ToyyibOlalekanOladej/AppData/Local/Programs/Python/Python38/lib/site-packages/ipykernel/kernelbase.py?line=1160'>1161</a>\u001b[0m \u001b[39mif\u001b[39;00m \u001b[39mnot\u001b[39;00m \u001b[39mself\u001b[39m\u001b[39m.\u001b[39m_allow_stdin:\n\u001b[0;32m   <a href='file:///c%3A/Users/ToyyibOlalekanOladej/AppData/Local/Programs/Python/Python38/lib/site-packages/ipykernel/kernelbase.py?line=1161'>1162</a>\u001b[0m     \u001b[39mraise\u001b[39;00m StdinNotImplementedError(\n\u001b[0;32m   <a href='file:///c%3A/Users/ToyyibOlalekanOladej/AppData/Local/Programs/Python/Python38/lib/site-packages/ipykernel/kernelbase.py?line=1162'>1163</a>\u001b[0m         \u001b[39m\"\u001b[39m\u001b[39mraw_input was called, but this frontend does not support input requests.\u001b[39m\u001b[39m\"\u001b[39m\n\u001b[0;32m   <a href='file:///c%3A/Users/ToyyibOlalekanOladej/AppData/Local/Programs/Python/Python38/lib/site-packages/ipykernel/kernelbase.py?line=1163'>1164</a>\u001b[0m     )\n\u001b[1;32m-> <a href='file:///c%3A/Users/ToyyibOlalekanOladej/AppData/Local/Programs/Python/Python38/lib/site-packages/ipykernel/kernelbase.py?line=1164'>1165</a>\u001b[0m \u001b[39mreturn\u001b[39;00m \u001b[39mself\u001b[39;49m\u001b[39m.\u001b[39;49m_input_request(\n\u001b[0;32m   <a href='file:///c%3A/Users/ToyyibOlalekanOladej/AppData/Local/Programs/Python/Python38/lib/site-packages/ipykernel/kernelbase.py?line=1165'>1166</a>\u001b[0m     \u001b[39mstr\u001b[39;49m(prompt),\n\u001b[0;32m   <a href='file:///c%3A/Users/ToyyibOlalekanOladej/AppData/Local/Programs/Python/Python38/lib/site-packages/ipykernel/kernelbase.py?line=1166'>1167</a>\u001b[0m     \u001b[39mself\u001b[39;49m\u001b[39m.\u001b[39;49m_parent_ident[\u001b[39m\"\u001b[39;49m\u001b[39mshell\u001b[39;49m\u001b[39m\"\u001b[39;49m],\n\u001b[0;32m   <a href='file:///c%3A/Users/ToyyibOlalekanOladej/AppData/Local/Programs/Python/Python38/lib/site-packages/ipykernel/kernelbase.py?line=1167'>1168</a>\u001b[0m     \u001b[39mself\u001b[39;49m\u001b[39m.\u001b[39;49mget_parent(\u001b[39m\"\u001b[39;49m\u001b[39mshell\u001b[39;49m\u001b[39m\"\u001b[39;49m),\n\u001b[0;32m   <a href='file:///c%3A/Users/ToyyibOlalekanOladej/AppData/Local/Programs/Python/Python38/lib/site-packages/ipykernel/kernelbase.py?line=1168'>1169</a>\u001b[0m     password\u001b[39m=\u001b[39;49m\u001b[39mFalse\u001b[39;49;00m,\n\u001b[0;32m   <a href='file:///c%3A/Users/ToyyibOlalekanOladej/AppData/Local/Programs/Python/Python38/lib/site-packages/ipykernel/kernelbase.py?line=1169'>1170</a>\u001b[0m )\n",
      "File \u001b[1;32mc:\\Users\\ToyyibOlalekanOladej\\AppData\\Local\\Programs\\Python\\Python38\\lib\\site-packages\\ipykernel\\kernelbase.py:1207\u001b[0m, in \u001b[0;36mKernel._input_request\u001b[1;34m(self, prompt, ident, parent, password)\u001b[0m\n\u001b[0;32m   <a href='file:///c%3A/Users/ToyyibOlalekanOladej/AppData/Local/Programs/Python/Python38/lib/site-packages/ipykernel/kernelbase.py?line=1203'>1204</a>\u001b[0m             \u001b[39mbreak\u001b[39;00m\n\u001b[0;32m   <a href='file:///c%3A/Users/ToyyibOlalekanOladej/AppData/Local/Programs/Python/Python38/lib/site-packages/ipykernel/kernelbase.py?line=1204'>1205</a>\u001b[0m \u001b[39mexcept\u001b[39;00m \u001b[39mKeyboardInterrupt\u001b[39;00m:\n\u001b[0;32m   <a href='file:///c%3A/Users/ToyyibOlalekanOladej/AppData/Local/Programs/Python/Python38/lib/site-packages/ipykernel/kernelbase.py?line=1205'>1206</a>\u001b[0m     \u001b[39m# re-raise KeyboardInterrupt, to truncate traceback\u001b[39;00m\n\u001b[1;32m-> <a href='file:///c%3A/Users/ToyyibOlalekanOladej/AppData/Local/Programs/Python/Python38/lib/site-packages/ipykernel/kernelbase.py?line=1206'>1207</a>\u001b[0m     \u001b[39mraise\u001b[39;00m \u001b[39mKeyboardInterrupt\u001b[39;00m(\u001b[39m\"\u001b[39m\u001b[39mInterrupted by user\u001b[39m\u001b[39m\"\u001b[39m) \u001b[39mfrom\u001b[39;00m \u001b[39mNone\u001b[39m\n\u001b[0;32m   <a href='file:///c%3A/Users/ToyyibOlalekanOladej/AppData/Local/Programs/Python/Python38/lib/site-packages/ipykernel/kernelbase.py?line=1207'>1208</a>\u001b[0m \u001b[39mexcept\u001b[39;00m \u001b[39mException\u001b[39;00m:\n\u001b[0;32m   <a href='file:///c%3A/Users/ToyyibOlalekanOladej/AppData/Local/Programs/Python/Python38/lib/site-packages/ipykernel/kernelbase.py?line=1208'>1209</a>\u001b[0m     \u001b[39mself\u001b[39m\u001b[39m.\u001b[39mlog\u001b[39m.\u001b[39mwarning(\u001b[39m\"\u001b[39m\u001b[39mInvalid Message:\u001b[39m\u001b[39m\"\u001b[39m, exc_info\u001b[39m=\u001b[39m\u001b[39mTrue\u001b[39;00m)\n",
      "\u001b[1;31mKeyboardInterrupt\u001b[0m: Interrupted by user"
     ]
    }
   ],
   "source": [
    "import string\n",
    "\n",
    "upper_case = string.ascii_uppercase\n",
    "lower_case = string.ascii_lowercase\n",
    "\n",
    "\n",
    "word = str(input(\"provide a word\"))\n",
    "\n",
    "for char in word:\n",
    "    if(word in upper_case and word not in lower_case):\n",
    "        print('Word is Uppercase')\n",
    "    elif(word in lower_case and word not in upper_case):\n",
    "        print('Word is lowercase')\n",
    "    elif(word in upper_case and word in lower_case):\n",
    "        print('Word is mixed!')\n",
    "\n",
    "\n"
   ]
  },
  {
   "cell_type": "code",
   "execution_count": 59,
   "metadata": {},
   "outputs": [
    {
     "name": "stdout",
     "output_type": "stream",
     "text": [
      "name is the key.tolu is the value \n",
      "second is the key.smith is the value \n",
      "name is the key.tolu is the value \n",
      "second is the key.smith is the value \n"
     ]
    }
   ],
   "source": [
    "dict_list = {\n",
    "    'name':'tolu',\n",
    "    'second':'smith',\n",
    "}\n",
    "\n",
    "for keys in dict_list:\n",
    "    print(f'{keys} is the key.{dict_list[keys]} is the value ')\n",
    "\n",
    "for keys, values in dict_list.items():\n",
    "        print(f'{keys} is the key.{values} is the value ')"
   ]
  },
  {
   "cell_type": "code",
   "execution_count": 51,
   "metadata": {},
   "outputs": [
    {
     "name": "stdout",
     "output_type": "stream",
     "text": [
      "[1, 2, 3, 4, 5, 6, 7, 8, 9, 10]\n",
      "[2, 4, 6, 8, 10]\n"
     ]
    }
   ],
   "source": [
    "number_list = list(range(1,6))\n",
    "number_list.extend(list(range(6,11)))\n",
    "\n",
    "print(number_list)\n",
    "\n",
    "for number in number_list:\n",
    "    if(number % 2 != 0):\n",
    "\n",
    "        number_list.remove(number)\n",
    "\n",
    "print(number_list)"
   ]
  },
  {
   "cell_type": "code",
   "execution_count": 58,
   "metadata": {},
   "outputs": [
    {
     "name": "stdout",
     "output_type": "stream",
     "text": [
      "{'a': 1, 'b': 2, 'c': 3, 'd': 4, 'e': 5, 'f': 6, 'g': 7, 'h': 8, 'i': 9, 'j': 10, 'k': 11, 'l': 12, 'm': 13, 'n': 14, 'o': 15, 'p': 16, 'q': 17, 'r': 18, 's': 19, 't': 20, 'u': 21, 'v': 22, 'w': 23, 'x': 24, 'y': 25, 'z': 26}\n"
     ]
    }
   ],
   "source": [
    "import string\n",
    "\n",
    "word_list = string.ascii_lowercase\n",
    "index = list(range(1,27))\n",
    "#could have use enumerate\n",
    "def create_dictionary(keys, values):\n",
    "    result = {}\n",
    "    for key, value in zip(keys, values):\n",
    "        result[key] = value\n",
    "    return result\n",
    "\n",
    "print(create_dictionary(keys=word_list, values=index))\n"
   ]
  },
  {
   "cell_type": "code",
   "execution_count": 3,
   "metadata": {},
   "outputs": [
    {
     "name": "stdout",
     "output_type": "stream",
     "text": [
      "False\n"
     ]
    }
   ],
   "source": [
    "print()"
   ]
  }
 ],
 "metadata": {
  "interpreter": {
   "hash": "6e32f579ea0d5a7a8deb537678a4e8cc21083b8923fc0337e964613634a9dfd8"
  },
  "kernelspec": {
   "display_name": "Python 3.8.9 64-bit",
   "language": "python",
   "name": "python3"
  },
  "language_info": {
   "codemirror_mode": {
    "name": "ipython",
    "version": 3
   },
   "file_extension": ".py",
   "mimetype": "text/x-python",
   "name": "python",
   "nbconvert_exporter": "python",
   "pygments_lexer": "ipython3",
   "version": "3.8.9"
  },
  "orig_nbformat": 4
 },
 "nbformat": 4,
 "nbformat_minor": 2
}
