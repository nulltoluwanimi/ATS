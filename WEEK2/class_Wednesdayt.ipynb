{
 "cells": [
  {
   "cell_type": "code",
   "execution_count": 5,
   "metadata": {},
   "outputs": [
    {
     "name": "stdout",
     "output_type": "stream",
     "text": [
      "3.0\n"
     ]
    }
   ],
   "source": [
    "## function that takes 5 numbner and return the average\n",
    "\n",
    "def average(*nums):\n",
    "    numbers = list(nums)\n",
    "    if len(numbers) > 5:\n",
    "        return 'Args should not be greater than 5 '\n",
    "    average = sum(numbers) / len(numbers)\n",
    "    return average\n",
    "\n",
    "def position_args(n1,n2,n3,n4,n5):\n",
    "    numbers = [n1,n2,n3,n4,n5]\n",
    "    average = sum(numbers) / len(numbers)\n",
    "    return average\n",
    "\n",
    "\n",
    "print(average(1,2,3,4,5))\n",
    "\n",
    "\n",
    "    "
   ]
  },
  {
   "cell_type": "code",
   "execution_count": 23,
   "metadata": {},
   "outputs": [
    {
     "name": "stdout",
     "output_type": "stream",
     "text": [
      "47240\n"
     ]
    }
   ],
   "source": [
    "import random\n",
    "print(random.randint(9999, 99999))"
   ]
  },
  {
   "cell_type": "code",
   "execution_count": 3,
   "metadata": {},
   "outputs": [
    {
     "name": "stdout",
     "output_type": "stream",
     "text": [
      "\n",
      "    type of 1 is <class 'int'>\n",
      "    type of Re is <class 'str'>\n",
      "    type of {} is <class 'dict'>\n",
      "    type of [] is <class 'list'>\n",
      "    type of () is <class 'tuple'>\n",
      "    \n"
     ]
    }
   ],
   "source": [
    "def args_type(args_1:str, args_2:list, args_3:tuple, args_4: dict, args_5:set):\n",
    "    return f\"\"\"\n",
    "    type of {args_1} is {type(args_1)}\n",
    "    type of {args_2} is {type(args_2)}\n",
    "    type of {args_3} is {type(args_3)}\n",
    "    type of {args_4} is {type(args_4)}\n",
    "    type of {args_5} is {type(args_5)}\n",
    "    \"\"\"\n",
    "\n",
    "print(args_type(1,\"Re\", {},[],()))"
   ]
  },
  {
   "cell_type": "code",
   "execution_count": 4,
   "metadata": {},
   "outputs": [
    {
     "name": "stdout",
     "output_type": "stream",
     "text": [
      "x = -9.0 and 2.0\n"
     ]
    }
   ],
   "source": [
    "def solve_quadratic_equation(a:int, b:int, c:int):\n",
    "    product = a * c\n",
    "    factors = [i for i in range(-abs(product), abs(product) + 1) if i != 0 and product % i == 0]\n",
    "    working_factors = [factor for factor in factors for i in range(len(factors)) if factor + factors[i] == b and factor * factors[i] == product]\n",
    "    if a == 1 and len(working_factors) == 1:\n",
    "        print(f\"x = {-(working_factors[0])} two times\")\n",
    "    elif a == 1 and len(working_factors) == 2:\n",
    "        print(f\"x = {-(working_factors[0])} and {-(working_factors[1])}\")\n",
    "    elif a > 1 and len(working_factors) == 2:\n",
    "        print(f\"x = {-(working_factors[0])/a} and {-(working_factors[1])/a}\")\n",
    "    elif a < 0 and len(working_factors) == 1:\n",
    "        print(f\"x = {-(working_factors[0])/a} two times\")\n",
    "    elif a < 0 and len(working_factors) == 2:\n",
    "        print(f\"x = {-(working_factors[0])/a} and {-(working_factors[1])/a}\")\n",
    "solve_quadratic_equation(-1,-7,18)"
   ]
  }
 ],
 "metadata": {
  "interpreter": {
   "hash": "6e32f579ea0d5a7a8deb537678a4e8cc21083b8923fc0337e964613634a9dfd8"
  },
  "kernelspec": {
   "display_name": "Python 3.8.9 64-bit",
   "language": "python",
   "name": "python3"
  },
  "language_info": {
   "codemirror_mode": {
    "name": "ipython",
    "version": 3
   },
   "file_extension": ".py",
   "mimetype": "text/x-python",
   "name": "python",
   "nbconvert_exporter": "python",
   "pygments_lexer": "ipython3",
   "version": "3.8.9"
  },
  "orig_nbformat": 4
 },
 "nbformat": 4,
 "nbformat_minor": 2
}
