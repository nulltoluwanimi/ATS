{
 "cells": [
  {
   "cell_type": "code",
   "execution_count": 9,
   "metadata": {},
   "outputs": [
    {
     "name": "stdout",
     "output_type": "stream",
     "text": [
      "words generated are \"chemistry dance phone\"\n",
      "words generated are \"chemistry mourn glasses\"\n",
      "words generated are \"futher-math walk wrist-watch\"\n",
      "words generated are \"math talk toy\"\n",
      "words generated are \"physics go wrist-watch\"\n",
      "words generated are \"mathemathics jump phone\"\n",
      "words generated are \"chemistry dance bottle\"\n",
      "words generated are \"english walk bottle\"\n",
      "words generated are \"mathemathics jump laptop\"\n",
      "words generated are \"agriculture run glasses\"\n",
      "words generated are \"mathemathics mourn cloth\"\n"
     ]
    }
   ],
   "source": [
    "import random\n",
    "\n",
    "subjects = ['mathemathics', 'math', 'english', 'physics', 'chemistry', 'agriculture', 'futher-math' ]\n",
    "verbs = ['walk', 'talk','mourn','watch','think', 'run','dance', 'slide','jump','think','do', 'go','stand']\n",
    "objects = ['toy','wrist-watch', 'phone','laptop', 'glasses','shoe','cloth', 'bottle',]\n",
    "\n",
    "for i in range(0,11):\n",
    "    tup = (random.choice(subjects), random.choice(verbs), random.choice(objects))\n",
    "    word = ' '.join(tup)\n",
    "    print(f'words generated are \"{word}\"')"
   ]
  },
  {
   "cell_type": "code",
   "execution_count": 27,
   "metadata": {},
   "outputs": [
    {
     "name": "stdout",
     "output_type": "stream",
     "text": [
      "0 ['agriculture walk phone']\n",
      "1 ['agriculture walk phone', 'math slide laptop']\n",
      "2 ['agriculture walk phone', 'math slide laptop', 'futher-math dance toy']\n"
     ]
    }
   ],
   "source": [
    "subjects = ['mathemathics', 'math', 'english', 'physics', 'chemistry', 'agriculture', 'futher-math' ]\n",
    "verbs = ['walk', 'talk','mourn','watch','think', 'run','dance', 'slide','jump','think','do', 'go','stand']\n",
    "objects = ['toy','wrist-watch', 'phone','laptop', 'glasses','shoe','cloth', 'bottle',]\n",
    "\n",
    "\n",
    "def generator_function(n):\n",
    "    existing_word = []\n",
    "    for i in range(0, n):\n",
    "        subj = random.choice(subjects)\n",
    "        ver =  random.choice(verbs)\n",
    "        obj = random.choice(objects)\n",
    "        tup = (subj, ver, obj)\n",
    "        word = ' '.join(tup)\n",
    "        existing_word.append(word)\n",
    "        # print(i,existing_word)\n",
    "        if any( tup[0] or tup[1] or tup[2] in s for s in existing_word):\n",
    "            continue\n",
    "        else:\n",
    "            print(tup)\n",
    "\n",
    "\n",
    "        # if tup is not existing_word:\n",
    "            \n",
    "        # if \n",
    "        # print(f'words generated are \"{word}\"')\n",
    "\n",
    "generator_function(3)\n"
   ]
  },
  {
   "cell_type": "code",
   "execution_count": 24,
   "metadata": {},
   "outputs": [
    {
     "name": "stdout",
     "output_type": "stream",
     "text": [
      "True\n"
     ]
    }
   ],
   "source": [
    "x =['futher-math walk phone', 'english slide cloth', 'agriculture run wrist-watch']\n",
    "\n",
    "print( 'futher-math walk phone' in x )"
   ]
  }
 ],
 "metadata": {
  "interpreter": {
   "hash": "6e32f579ea0d5a7a8deb537678a4e8cc21083b8923fc0337e964613634a9dfd8"
  },
  "kernelspec": {
   "display_name": "Python 3.8.9 64-bit",
   "language": "python",
   "name": "python3"
  },
  "language_info": {
   "codemirror_mode": {
    "name": "ipython",
    "version": 3
   },
   "file_extension": ".py",
   "mimetype": "text/x-python",
   "name": "python",
   "nbconvert_exporter": "python",
   "pygments_lexer": "ipython3",
   "version": "3.8.9"
  },
  "orig_nbformat": 4
 },
 "nbformat": 4,
 "nbformat_minor": 2
}
